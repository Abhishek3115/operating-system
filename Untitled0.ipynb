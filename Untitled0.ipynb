{
  "nbformat": 4,
  "nbformat_minor": 0,
  "metadata": {
    "colab": {
      "provenance": [],
      "authorship_tag": "ABX9TyN3sgeL+KvJ7s8Ww/agFoPU",
      "include_colab_link": true
    },
    "kernelspec": {
      "name": "python3",
      "display_name": "Python 3"
    },
    "language_info": {
      "name": "python"
    }
  },
  "cells": [
    {
      "cell_type": "markdown",
      "metadata": {
        "id": "view-in-github",
        "colab_type": "text"
      },
      "source": [
        "<a href=\"https://colab.research.google.com/github/Abhishek3115/operating-system/blob/main/Untitled0.ipynb\" target=\"_parent\"><img src=\"https://colab.research.google.com/assets/colab-badge.svg\" alt=\"Open In Colab\"/></a>"
      ]
    },
    {
      "cell_type": "markdown",
      "source": [],
      "metadata": {
        "id": "mUeUuUZd2onS"
      }
    },
    {
      "cell_type": "markdown",
      "source": [
        "example of list comprehension in python"
      ],
      "metadata": {
        "id": "3yZiVtOY2qFJ"
      }
    },
    {
      "cell_type": "markdown",
      "source": [
        "1.print square of natural number 1 to 10"
      ],
      "metadata": {
        "id": "O_84WjPL2wdB"
      }
    },
    {
      "cell_type": "code",
      "source": [
        "for i in range(1, 11):\n",
        "    print(i**2)\n"
      ],
      "metadata": {
        "id": "72Ii_1u-3Ish"
      },
      "execution_count": null,
      "outputs": []
    },
    {
      "cell_type": "markdown",
      "source": [
        "2.count number of 6 between 1 to 1000"
      ],
      "metadata": {
        "id": "nI6pDlfR3KTx"
      }
    },
    {
      "cell_type": "code",
      "source": [
        "count = 0\n",
        "for i in range(1, 1001):\n",
        "    count += str(i).count('6')\n",
        "print(\"The number of 6's between 1 and 1000 is:\", count)\n"
      ],
      "metadata": {
        "id": "rHN5T2VD3Rkx"
      },
      "execution_count": null,
      "outputs": []
    },
    {
      "cell_type": "markdown",
      "source": [
        "3. count number of spaces in string"
      ],
      "metadata": {
        "id": "049mx1UL3aSR"
      }
    },
    {
      "cell_type": "code",
      "source": [
        "my_string = \"This is a puthon program .\"\n",
        "count = my_string.count(' ')\n",
        "print(\"The number of spaces in the string is:\", count)\n"
      ],
      "metadata": {
        "id": "YYePmoSM21Ra"
      },
      "execution_count": null,
      "outputs": []
    },
    {
      "cell_type": "markdown",
      "source": [
        "4.write table of 5"
      ],
      "metadata": {
        "id": "zYK6lnvx3qah"
      }
    },
    {
      "cell_type": "code",
      "source": [
        "for i in range(1, 11):\n",
        "    print(\"5 x\", i, \"=\", 5*i)\n"
      ],
      "metadata": {
        "id": "RVENAuM430vJ"
      },
      "execution_count": null,
      "outputs": []
    },
    {
      "cell_type": "markdown",
      "source": [
        "find number between 1 to 1000 divisible by 2 and 5"
      ],
      "metadata": {
        "id": "YvjhBRCd4BEA"
      }
    },
    {
      "cell_type": "code",
      "source": [
        "for i in range(1, 1001):\n",
        "    if i % 2 == 0 and i % 5 == 0:\n",
        "        print(i)\n"
      ],
      "metadata": {
        "id": "j3ln0AIZ4VLo"
      },
      "execution_count": null,
      "outputs": []
    }
  ]
}